{
 "cells": [
  {
   "cell_type": "code",
   "execution_count": 1,
   "metadata": {},
   "outputs": [
    {
     "name": "stdout",
     "output_type": "stream",
     "text": [
      "hello world\n"
     ]
    }
   ],
   "source": [
    "print('hello world')"
   ]
  },
  {
   "cell_type": "code",
   "execution_count": 2,
   "metadata": {},
   "outputs": [],
   "source": [
    "import pandas as pd"
   ]
  },
  {
   "cell_type": "code",
   "execution_count": 4,
   "metadata": {},
   "outputs": [
    {
     "name": "stdout",
     "output_type": "stream",
     "text": [
      "Empty DataFrame\n",
      "Columns: [practiceTask,contextFlankerPracticeTask,NaN,NaN,NaN,1,NaN,[object Object],https://people.duke.edu/~jz421/ContextCognitiveControlCode/images/N259.jpg,i,center,NaN,31045,32075,1030,0,center,i,NaN,NaN,NaN,NaN,NaN,NaN, prac1,pracFeedback,NaN,NaN,NaN,NaN,NaN,NaN,NaN,NaN,NaN,NaN,NaN,NaN,NaN,NaN,NaN,NaN,NaN,33446,40567,7121, practiceTask,contextFlankerPracticeTask,NaN,NaN,NaN,1,NaN,[object Object],https://people.duke.edu/~jz421/ContextCognitiveControlCode/images/N259.jpg,i,center,NaN,44124,45146,1022,1,center,i,NaN,NaN,NaN,NaN,NaN,NaN, NaN,NaN,NaN,NaN,NaN,NaN,NaN,NaN,NaN,NaN,NaN,NaN,NaN,NaN,NaN,NaN,NaN,NaN,NaN,NaN,NaN,bottom,bottom,bottom,bottom,bottom,top,top,top,top,top,center,center,center,center,center,center,center,center,i,i,i,c,i,c,c,c,c,i,i,c,i,c,i,i,c,c,[object Object],[object Object],[object Object],[object Object],[object Object],[object Object],[object Object],[object Object],[object Object],[object Object],[object Object],[object Object],[object Object],[object Object],[object Object],[object Object],[object Object],[object Object],[object Object], main1,contextFlankerMainTask,1,learnAbot,learnBtop,test,learnBtop,1,1,[object Object],https://people.duke.edu/~jz421/ContextCognitiveControlCode/images/M163.jpg,i,bottom,true,61059,62267,1208,1,bottom,i,NaN,NaN,NaN,NaN,NaN,NaN, main1,contextFlankerMainTask,1,learnAbot,learnBtop,test,learnBtop,2,2,[object Object],https://people.duke.edu/~jz421/ContextCognitiveControlCode/images/N113.jpg,i,bottom,true,64352,65468,1116,1,bottom,i,NaN,NaN,NaN,NaN,NaN,NaN, main1,contextFlankerMainTask,1,learnAbot,learnBtop,test,learnBtop,3,3,[object Object],https://people.duke.edu/~jz421/ContextCognitiveControlCode/images/M160.jpg,i,bottom,true,67458,68477,1019,1,bottom,i,NaN,NaN,NaN,NaN,NaN,NaN, main1,contextFlankerMainTask,1,learnAbot,learnBtop,test,learnBtop,4,4,[object Object],https://people.duke.edu/~jz421/ContextCognitiveControlCode/images/N22.jpg,c,bottom,true,70476,71288,812,1,bottom,c,NaN,NaN,NaN,NaN,NaN,NaN, main1,contextFlankerMainTask,1,learnAbot,learnBtop,test,learnBtop,5,5,[object Object],https://people.duke.edu/~jz421/ContextCognitiveControlCode/images/M154.jpg,i,bottom,true,73274,74286,1012,1,bottom,i,NaN,NaN,NaN,NaN,NaN,NaN, main1,contextFlankerMainTask,2,learnAbot,learnBtop,test,test,6,1,[object Object],https://people.duke.edu/~jz421/ContextCognitiveControlCode/images/N162.jpg,c,top,true,86410,87454,1044,1,top,c,NaN,NaN,NaN,NaN,NaN,NaN, main1,contextFlankerMainTask,2,learnAbot,learnBtop,test,test,7,2,[object Object],https://people.duke.edu/~jz421/ContextCognitiveControlCode/images/N25.jpg,c,top,true,89423,90460,1037,1,top,c,NaN,NaN,NaN,NaN,NaN,NaN, main1,contextFlankerMainTask,2,learnAbot,learnBtop,test,test,8,3,[object Object],https://people.duke.edu/~jz421/ContextCognitiveControlCode/images/N163.jpg,c,top,true,92487,93399,912,1,top,c,NaN,NaN,NaN,NaN,NaN,NaN, main1,contextFlankerMainTask,2,learnAbot,learnBtop,test,test,9,4,[object Object],https://people.duke.edu/~jz421/ContextCognitiveControlCode/images/N93.jpg,c,top,true,95392,96319,927,1,top,c,NaN,NaN,NaN,NaN,NaN,NaN, main1,contextFlankerMainTask,2,learnAbot,learnBtop,test,test,10,5,[object Object],https://people.duke.edu/~jz421/ContextCognitiveControlCode/images/N239.jpg,i,top,true,98347,99231,884,0,top,i,NaN,NaN,NaN,NaN,NaN,NaN, main1,contextFlankerMainTask,3,learnAbot,learnBtop,test,,11,1,[object Object],https://people.duke.edu/~jz421/ContextCognitiveControlCode/images/M177.jpg,i,center,false,111373,112365,992,1,center,i,NaN,NaN,NaN,NaN,NaN,NaN, main1,contextFlankerMainTask,3,learnAbot,learnBtop,test,,12,2,[object Object],https://people.duke.edu/~jz421/ContextCognitiveControlCode/images/M131.jpg,i,center,true,114349,115285,936,1,center,c,NaN,NaN,NaN,NaN,NaN,NaN, main1,contextFlankerMainTask,3,learnAbot,learnBtop,test,,13,3,[object Object],https://people.duke.edu/~jz421/ContextCognitiveControlCode/images/M154.jpg,i,center,false,117255,118265,1010,1,center,i,NaN,NaN,NaN,NaN,NaN,NaN, main1,contextFlankerMainTask,3,learnAbot,learnBtop,test,,14,4,[object Object],https://people.duke.edu/~jz421/ContextCognitiveControlCode/images/M193.jpg,i,center,true,120220,121211,991,0,center,c,NaN,NaN,NaN,NaN,NaN,NaN, main1,contextFlankerMainTask,3,learnAbot,learnBtop,test,,15,5,[object Object],https://people.duke.edu/~jz421/ContextCognitiveControlCode/images/N22.jpg,c,center,false,123239,124129,890,1,center,i,NaN,NaN,NaN,NaN,NaN,NaN, main1,contextFlankerMainTask,3,learnAbot,learnBtop,test,,16,6,[object Object],https://people.duke.edu/~jz421/ContextCognitiveControlCode/images/M222.jpg,i,center,true,126039,126986,947,0,center,i,NaN,NaN,NaN,NaN,NaN,NaN, main1,contextFlankerMainTask,3,learnAbot,learnBtop,test,,17,7,[object Object],https://people.duke.edu/~jz421/ContextCognitiveControlCode/images/N239.jpg,i,center,false,128988,130019,1031,1,center,c,NaN,NaN,NaN,NaN,NaN,NaN, main1,contextFlankerMainTask,3,learnAbot,learnBtop,test,,18,8,[object Object],https://people.duke.edu/~jz421/ContextCognitiveControlCode/images/N178.jpg,c,center,true,131955,132957,1002,1,center,c,NaN,NaN,NaN,NaN,NaN,NaN, main1,contextFlankerMainTask,3,learnAbot,learnBtop,test,,19,9,[object Object],https://people.duke.edu/~jz421/ContextCognitiveControlCode/images/N25.jpg,c,center,false,135022,135867,845,1,,,NaN,NaN,NaN,NaN,NaN,NaN, main1,contextFlankerMainTask,3,learnAbot,learnBtop,test,,20,10,[object Object],https://people.duke.edu/~jz421/ContextCognitiveControlCode/images/N58.jpg,c,center,true,137971,138956,985,1,,,NaN,NaN,NaN,NaN,NaN,NaN, main1,contextFlankerMainTask,3,learnAbot,learnBtop,test,,21,11,[object Object],https://people.duke.edu/~jz421/ContextCognitiveControlCode/images/M133.jpg,c,center,false,140973,141894,921,1,,,NaN,NaN,NaN,NaN,NaN,NaN, main1,contextFlankerMainTask,3,learnAbot,learnBtop,test,,22,12,[object Object],https://people.duke.edu/~jz421/ContextCognitiveControlCode/images/M73.jpg,c,center,true,144021,144924,903,1,,,NaN,NaN,NaN,NaN,NaN,NaN]\n",
      "Index: []\n",
      "\n",
      "[0 rows x 26 columns]\n"
     ]
    }
   ],
   "source": [
    "test = pd.read_csv('/Users/jinjiang-macair/Library/CloudStorage/OneDrive-DukeUniversity/Duke/Fall2022Rotation/ContextCognitiveControlCode/analysis/3nvc2eb65uvdyr73fbdkp2nsbwl3yr.log', sep=';')\n",
    "\n",
    "print(test)"
   ]
  },
  {
   "cell_type": "code",
   "execution_count": 6,
   "metadata": {},
   "outputs": [
    {
     "ename": "KeyError",
     "evalue": "(0, 1)",
     "output_type": "error",
     "traceback": [
      "\u001b[0;31m---------------------------------------------------------------------------\u001b[0m",
      "\u001b[0;31mKeyError\u001b[0m                                  Traceback (most recent call last)",
      "\u001b[0;32m~/anaconda3/lib/python3.7/site-packages/pandas/core/indexes/base.py\u001b[0m in \u001b[0;36mget_loc\u001b[0;34m(self, key, method, tolerance)\u001b[0m\n\u001b[1;32m   2896\u001b[0m             \u001b[0;32mtry\u001b[0m\u001b[0;34m:\u001b[0m\u001b[0;34m\u001b[0m\u001b[0;34m\u001b[0m\u001b[0m\n\u001b[0;32m-> 2897\u001b[0;31m                 \u001b[0;32mreturn\u001b[0m \u001b[0mself\u001b[0m\u001b[0;34m.\u001b[0m\u001b[0m_engine\u001b[0m\u001b[0;34m.\u001b[0m\u001b[0mget_loc\u001b[0m\u001b[0;34m(\u001b[0m\u001b[0mkey\u001b[0m\u001b[0;34m)\u001b[0m\u001b[0;34m\u001b[0m\u001b[0;34m\u001b[0m\u001b[0m\n\u001b[0m\u001b[1;32m   2898\u001b[0m             \u001b[0;32mexcept\u001b[0m \u001b[0mKeyError\u001b[0m\u001b[0;34m:\u001b[0m\u001b[0;34m\u001b[0m\u001b[0;34m\u001b[0m\u001b[0m\n",
      "\u001b[0;32mpandas/_libs/index.pyx\u001b[0m in \u001b[0;36mpandas._libs.index.IndexEngine.get_loc\u001b[0;34m()\u001b[0m\n",
      "\u001b[0;32mpandas/_libs/index.pyx\u001b[0m in \u001b[0;36mpandas._libs.index.IndexEngine.get_loc\u001b[0;34m()\u001b[0m\n",
      "\u001b[0;32mpandas/_libs/hashtable_class_helper.pxi\u001b[0m in \u001b[0;36mpandas._libs.hashtable.PyObjectHashTable.get_item\u001b[0;34m()\u001b[0m\n",
      "\u001b[0;32mpandas/_libs/hashtable_class_helper.pxi\u001b[0m in \u001b[0;36mpandas._libs.hashtable.PyObjectHashTable.get_item\u001b[0;34m()\u001b[0m\n",
      "\u001b[0;31mKeyError\u001b[0m: (0, 1)",
      "\nDuring handling of the above exception, another exception occurred:\n",
      "\u001b[0;31mKeyError\u001b[0m                                  Traceback (most recent call last)",
      "\u001b[0;32m<ipython-input-6-b4b7a8fc711e>\u001b[0m in \u001b[0;36m<module>\u001b[0;34m\u001b[0m\n\u001b[0;32m----> 1\u001b[0;31m \u001b[0mtest\u001b[0m\u001b[0;34m[\u001b[0m\u001b[0;36m0\u001b[0m\u001b[0;34m,\u001b[0m\u001b[0;36m1\u001b[0m\u001b[0;34m]\u001b[0m\u001b[0;34m\u001b[0m\u001b[0;34m\u001b[0m\u001b[0m\n\u001b[0m",
      "\u001b[0;32m~/anaconda3/lib/python3.7/site-packages/pandas/core/frame.py\u001b[0m in \u001b[0;36m__getitem__\u001b[0;34m(self, key)\u001b[0m\n\u001b[1;32m   2978\u001b[0m             \u001b[0;32mif\u001b[0m \u001b[0mself\u001b[0m\u001b[0;34m.\u001b[0m\u001b[0mcolumns\u001b[0m\u001b[0;34m.\u001b[0m\u001b[0mnlevels\u001b[0m \u001b[0;34m>\u001b[0m \u001b[0;36m1\u001b[0m\u001b[0;34m:\u001b[0m\u001b[0;34m\u001b[0m\u001b[0;34m\u001b[0m\u001b[0m\n\u001b[1;32m   2979\u001b[0m                 \u001b[0;32mreturn\u001b[0m \u001b[0mself\u001b[0m\u001b[0;34m.\u001b[0m\u001b[0m_getitem_multilevel\u001b[0m\u001b[0;34m(\u001b[0m\u001b[0mkey\u001b[0m\u001b[0;34m)\u001b[0m\u001b[0;34m\u001b[0m\u001b[0;34m\u001b[0m\u001b[0m\n\u001b[0;32m-> 2980\u001b[0;31m             \u001b[0mindexer\u001b[0m \u001b[0;34m=\u001b[0m \u001b[0mself\u001b[0m\u001b[0;34m.\u001b[0m\u001b[0mcolumns\u001b[0m\u001b[0;34m.\u001b[0m\u001b[0mget_loc\u001b[0m\u001b[0;34m(\u001b[0m\u001b[0mkey\u001b[0m\u001b[0;34m)\u001b[0m\u001b[0;34m\u001b[0m\u001b[0;34m\u001b[0m\u001b[0m\n\u001b[0m\u001b[1;32m   2981\u001b[0m             \u001b[0;32mif\u001b[0m \u001b[0mis_integer\u001b[0m\u001b[0;34m(\u001b[0m\u001b[0mindexer\u001b[0m\u001b[0;34m)\u001b[0m\u001b[0;34m:\u001b[0m\u001b[0;34m\u001b[0m\u001b[0;34m\u001b[0m\u001b[0m\n\u001b[1;32m   2982\u001b[0m                 \u001b[0mindexer\u001b[0m \u001b[0;34m=\u001b[0m \u001b[0;34m[\u001b[0m\u001b[0mindexer\u001b[0m\u001b[0;34m]\u001b[0m\u001b[0;34m\u001b[0m\u001b[0;34m\u001b[0m\u001b[0m\n",
      "\u001b[0;32m~/anaconda3/lib/python3.7/site-packages/pandas/core/indexes/base.py\u001b[0m in \u001b[0;36mget_loc\u001b[0;34m(self, key, method, tolerance)\u001b[0m\n\u001b[1;32m   2897\u001b[0m                 \u001b[0;32mreturn\u001b[0m \u001b[0mself\u001b[0m\u001b[0;34m.\u001b[0m\u001b[0m_engine\u001b[0m\u001b[0;34m.\u001b[0m\u001b[0mget_loc\u001b[0m\u001b[0;34m(\u001b[0m\u001b[0mkey\u001b[0m\u001b[0;34m)\u001b[0m\u001b[0;34m\u001b[0m\u001b[0;34m\u001b[0m\u001b[0m\n\u001b[1;32m   2898\u001b[0m             \u001b[0;32mexcept\u001b[0m \u001b[0mKeyError\u001b[0m\u001b[0;34m:\u001b[0m\u001b[0;34m\u001b[0m\u001b[0;34m\u001b[0m\u001b[0m\n\u001b[0;32m-> 2899\u001b[0;31m                 \u001b[0;32mreturn\u001b[0m \u001b[0mself\u001b[0m\u001b[0;34m.\u001b[0m\u001b[0m_engine\u001b[0m\u001b[0;34m.\u001b[0m\u001b[0mget_loc\u001b[0m\u001b[0;34m(\u001b[0m\u001b[0mself\u001b[0m\u001b[0;34m.\u001b[0m\u001b[0m_maybe_cast_indexer\u001b[0m\u001b[0;34m(\u001b[0m\u001b[0mkey\u001b[0m\u001b[0;34m)\u001b[0m\u001b[0;34m)\u001b[0m\u001b[0;34m\u001b[0m\u001b[0;34m\u001b[0m\u001b[0m\n\u001b[0m\u001b[1;32m   2900\u001b[0m         \u001b[0mindexer\u001b[0m \u001b[0;34m=\u001b[0m \u001b[0mself\u001b[0m\u001b[0;34m.\u001b[0m\u001b[0mget_indexer\u001b[0m\u001b[0;34m(\u001b[0m\u001b[0;34m[\u001b[0m\u001b[0mkey\u001b[0m\u001b[0;34m]\u001b[0m\u001b[0;34m,\u001b[0m \u001b[0mmethod\u001b[0m\u001b[0;34m=\u001b[0m\u001b[0mmethod\u001b[0m\u001b[0;34m,\u001b[0m \u001b[0mtolerance\u001b[0m\u001b[0;34m=\u001b[0m\u001b[0mtolerance\u001b[0m\u001b[0;34m)\u001b[0m\u001b[0;34m\u001b[0m\u001b[0;34m\u001b[0m\u001b[0m\n\u001b[1;32m   2901\u001b[0m         \u001b[0;32mif\u001b[0m \u001b[0mindexer\u001b[0m\u001b[0;34m.\u001b[0m\u001b[0mndim\u001b[0m \u001b[0;34m>\u001b[0m \u001b[0;36m1\u001b[0m \u001b[0;32mor\u001b[0m \u001b[0mindexer\u001b[0m\u001b[0;34m.\u001b[0m\u001b[0msize\u001b[0m \u001b[0;34m>\u001b[0m \u001b[0;36m1\u001b[0m\u001b[0;34m:\u001b[0m\u001b[0;34m\u001b[0m\u001b[0;34m\u001b[0m\u001b[0m\n",
      "\u001b[0;32mpandas/_libs/index.pyx\u001b[0m in \u001b[0;36mpandas._libs.index.IndexEngine.get_loc\u001b[0;34m()\u001b[0m\n",
      "\u001b[0;32mpandas/_libs/index.pyx\u001b[0m in \u001b[0;36mpandas._libs.index.IndexEngine.get_loc\u001b[0;34m()\u001b[0m\n",
      "\u001b[0;32mpandas/_libs/hashtable_class_helper.pxi\u001b[0m in \u001b[0;36mpandas._libs.hashtable.PyObjectHashTable.get_item\u001b[0;34m()\u001b[0m\n",
      "\u001b[0;32mpandas/_libs/hashtable_class_helper.pxi\u001b[0m in \u001b[0;36mpandas._libs.hashtable.PyObjectHashTable.get_item\u001b[0;34m()\u001b[0m\n",
      "\u001b[0;31mKeyError\u001b[0m: (0, 1)"
     ]
    }
   ],
   "source": []
  },
  {
   "cell_type": "code",
   "execution_count": null,
   "metadata": {},
   "outputs": [],
   "source": []
  }
 ],
 "metadata": {
  "kernelspec": {
   "display_name": "Python 3.7.4 ('base')",
   "language": "python",
   "name": "python3"
  },
  "language_info": {
   "codemirror_mode": {
    "name": "ipython",
    "version": 3
   },
   "file_extension": ".py",
   "mimetype": "text/x-python",
   "name": "python",
   "nbconvert_exporter": "python",
   "pygments_lexer": "ipython3",
   "version": "3.7.4"
  },
  "orig_nbformat": 4,
  "vscode": {
   "interpreter": {
    "hash": "605d4a00bd7b750a1832489ef299cdc74ad9753fbd4c8cd108b39010ae995421"
   }
  }
 },
 "nbformat": 4,
 "nbformat_minor": 2
}
