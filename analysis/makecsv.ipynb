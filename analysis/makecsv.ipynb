{
 "cells": [
  {
   "cell_type": "code",
   "execution_count": 172,
   "metadata": {},
   "outputs": [],
   "source": [
    "import pandas as pd\n",
    "import glob\n",
    "import os\n",
    "import copy\n",
    "import matplotlib.pyplot as plt\n",
    "import numpy as np"
   ]
  },
  {
   "cell_type": "code",
   "execution_count": 31,
   "metadata": {},
   "outputs": [],
   "source": [
    "def fixDataLength(path):\n",
    "    '''\n",
    "    gets rid of the weird length stuff\n",
    "    path (string) : filepath to the .log file for a participant\n",
    "    '''     \n",
    "    x = open(path)\n",
    "    s = x.read().replace(',,,', ',NaN,NaN,')\n",
    "    x.close()\n",
    "\n",
    "    # Now open the file in write mode and write the string with replaced\n",
    "\n",
    "    x=open(path,'w')\n",
    "    x.write(s)\n",
    "    x.close()\n",
    "    "
   ]
  },
  {
   "cell_type": "code",
   "execution_count": 228,
   "metadata": {},
   "outputs": [],
   "source": [
    "def getAccAndRT(df):\n",
    "    '''\n",
    "    returns [array]: [reaction time, accuracy] for dataframe df\n",
    "    df needs to have ['respTime'] and ['accuracy'] columns, and a name\n",
    "    '''\n",
    "    accCount = df['accuracy'].astype(int).sum()\n",
    "\n",
    "    accPerc = accCount / len(df)\n",
    "    RTdf = df.loc[df['accuracy'] == 1] #remove mistake trials for RT calculation\n",
    "    # RTdf = RTdf.loc[RTdf['respTime'] > 300 & RTdf['respTime'] < 2000] #trim the outliers\n",
    "    RTdf = RTdf.loc[RTdf['respTime'].between(300,2000)]\n",
    "    RT = RTdf['respTime'].astype(float).mean()\n",
    "    \n",
    "    print(df.name + ' AccPerc is ' + str(accPerc))\n",
    "    print(df.name + ' avg resp time: ' + str(RT))\n",
    "    \n",
    "    return [accPerc, RT]\n",
    "\n"
   ]
  },
  {
   "cell_type": "code",
   "execution_count": 238,
   "metadata": {},
   "outputs": [],
   "source": [
    "#this is a horrible way to do this and fix it later\n",
    "\n",
    "def getMergedAccAndRT(df):\n",
    "    '''\n",
    "    returns [array]: [reaction time, accuracy] for dataframe df\n",
    "    df needs to have ['respTime_x'] and ['accuracy_x'] columns, and a name\n",
    "    '''\n",
    "    accCount = df['accuracy_x'].astype(int).sum()\n",
    "\n",
    "    accPerc = accCount / len(df)\n",
    "    RTdf = df.loc[df['accuracy_x'] == 1] #remove mistake trials for RT calculation\n",
    "    RTdf = RTdf.loc[RTdf['respTime_x'].between(300,2000)]\n",
    "\n",
    "    RT = RTdf['respTime_x'].astype(float).mean()\n",
    "    \n",
    "    print(df.name + ' AccPerc is ' + str(accPerc))\n",
    "    print(df.name + ' avg resp time: ' + str(RT))\n",
    "    \n",
    "    return [accPerc, RT]"
   ]
  },
  {
   "cell_type": "code",
   "execution_count": 200,
   "metadata": {},
   "outputs": [
    {
     "name": "stdout",
     "output_type": "stream",
     "text": [
      "am5tnxthwn6pz exists.\n",
      "aw5o1rk3w60fc exists.\n",
      "a1msg3v72sbkvu exists.\n",
      "a3lxaru55pr281 exists.\n",
      "a1j980qnbdg17z exists.\n",
      "a25pfsordo3swq exists.\n",
      "a12b7sh0t31k8u exists.\n",
      "a31nsutwp9a51h exists.\n",
      "a3uaxlnvxordwj exists.\n",
      "a2w6qfkxrq5fcp exists.\n",
      "a3nxt3ovgl7qnr exists.\n",
      "a32j7anzoukv9n exists.\n",
      "awa928gj41l3a exists.\n",
      "a1qcfzj4pfm9wi exists.\n",
      "a3b2yrsmsc2j3t exists.\n",
      "aqaxdl1inqc9q exists.\n",
      "a1h198mrim37t1 exists.\n",
      "a3ckwbnfp1zhbl exists.\n",
      "a1m64r8hpynnza exists.\n",
      "a22cwnsgo4uvgo exists.\n",
      "aiyomf8pjjleq exists.\n",
      "a1ime6dsk137x4 exists.\n",
      "awtcgy2cl1t68 exists.\n",
      "aiekcwyzts41v exists.\n",
      "a3q7072s2ngysl exists.\n",
      "ajq71yigy01hz exists.\n",
      "a2efmn1afprcl exists.\n",
      "a1t6dmrdvola7x exists.\n",
      "Creating group level csv file.\n"
     ]
    }
   ],
   "source": [
    "\n",
    "#global script variables\n",
    "accCutoff = .65\n",
    "path = r'/Users/jinjiang-macair/Library/CloudStorage/OneDrive-DukeUniversity/Duke/Fall2022Rotation/Data/contextFlanker2.0/'\n",
    "\n",
    "#load files from path\n",
    "allFiles = glob.glob(path + \"*.txt\")\n",
    "assignmentID = allFiles\n",
    "subjectList = []\n",
    "assignmentList = []\n",
    "groupDataList = []\n",
    "aboveAccCutoff = []\n",
    "accList = []\n",
    "\n",
    "for file in allFiles:\n",
    "    # open participant info file\n",
    "    partInfoFile = open(file,\"r\").readlines()\n",
    "    partInfo = [x.strip() for x in partInfoFile]\n",
    "    \n",
    "    #pull worker ID and assignment ID from file\n",
    "    wID = partInfo[2]\n",
    "    aID = partInfo[1]\n",
    "    compID = wID.split(':')  #getting worker ID\n",
    "    compID2 = aID.split(':') #getting assignment ID\n",
    "    subject = compID[1] #subID\n",
    "    \n",
    "    #open log file with the same name as the given particant info file\n",
    "    logfile = compID2[1]+'.log'\n",
    "    \n",
    "    #fixDataLength(path+logfile) #dunno if i should return the log file instead of doing a void fxn here\n",
    "    \n",
    "    partDataFile = pd.read_csv(path + logfile, lineterminator=';', sep=',', header=None, error_bad_lines = False);\n",
    "    partData = pd.concat([partDataFile], ignore_index=True, axis = 1) \n",
    "    testData = copy.deepcopy(partData)\n",
    "    \n",
    "    #formatting result dataframe\n",
    "    \n",
    "    # these are longer than they seem.\n",
    "    partData['subject']=subject #adding a column with subID\n",
    "    partData = partData.rename(columns={0: 'expStage', 1: 'sectionType', 2: 'taskName', 3: 'blockNumber', 4: 'firstBlockName', 5: 'secondBlockName', 6: 'thirdBlockName', \n",
    "                                        7:'currentBlockName', 8: 'trialCount', 9: 'blockTrialCount', 10: 'flankerSize',\n",
    "                                        11: 'trialImg', 12: 'imgSource', 13:'imgCongruency', 14: 'imgDisplayLocation', 15:'repeat', \n",
    "                                        16: 'stimOnset', 17: 'respOnset', 18: 'respTime', 19: 'accuracy', 20: 'sectionStart', \n",
    "                                        21: 'sectionEnd', 22: 'sectionEnd-sectionStart', 23:'subject'}) \n",
    "       \n",
    "    #add info to individual lists\n",
    "    subjectList.append(subject)\n",
    "    assignmentList.append(compID2[1])\n",
    "    \n",
    "    #add data to whole sample dataframe list\n",
    "    groupDataList.append(partData)\n",
    "\n",
    "    #save out participant data to CSV if it doesn't exist already\n",
    "    if os.path.exists(path+'Subj_'+str(subject)+'.csv'):\n",
    "        print(subject+' exists.') #don't make csv again if it already exits (file creation times are helpful for keeping track of data)\n",
    "    else:\n",
    "        print('Creating csv file for '+subject)\n",
    "        partData.to_csv(path+'Subj_'+str(subject)+'.csv', index=False)\n",
    "    \n",
    "#combine groupData into one file and save file\n",
    "groupData = pd.concat(groupDataList, ignore_index = True)\n",
    "\n",
    "# save out groupData into csv\n",
    "print('Creating group level csv file.')\n",
    "groupData.to_csv(path+'combinedData'+'.csv', index=False)"
   ]
  },
  {
   "cell_type": "code",
   "execution_count": 201,
   "metadata": {},
   "outputs": [
    {
     "data": {
      "text/plain": [
       "65       False\n",
       "66       False\n",
       "67       False\n",
       "68       False\n",
       "69       False\n",
       "         ...  \n",
       "13002    False\n",
       "13003     True\n",
       "13004    False\n",
       "13005     True\n",
       "13006    False\n",
       "Name: repeat, Length: 12320, dtype: bool"
      ]
     },
     "execution_count": 201,
     "metadata": {},
     "output_type": "execute_result"
    }
   ],
   "source": [
    "allData = pd.read_csv('/Users/jinjiang-macair/Library/CloudStorage/OneDrive-DukeUniversity/Duke/Fall2022Rotation/Data/contextFlanker2.0/combinedData.csv')\n",
    "\n",
    "allData = allData.loc[allData['sectionType'] == 'main1']\n",
    "\n",
    "#flip the repeat column cuz it was off by one...?\n",
    "\n",
    "allData['repeat'] = ~allData['repeat'].astype(bool)\n",
    "\n",
    "allData['repeat']"
   ]
  },
  {
   "cell_type": "code",
   "execution_count": 210,
   "metadata": {},
   "outputs": [
    {
     "name": "stdout",
     "output_type": "stream",
     "text": [
      "allData subject count: 28\n",
      "highAccDF subject count: 24\n"
     ]
    }
   ],
   "source": [
    "import pandas as pd\n",
    "\n",
    "accThreshold = 75\n",
    "\n",
    "highAccDF = pd.DataFrame()\n",
    "\n",
    "#subjectList.remove('a3ljsvb3hlepnw')\n",
    "\n",
    "for subject in subjectList:\n",
    "    subjectDF = allData.loc[allData['subject'] == subject]\n",
    "    \n",
    "    '''\n",
    "    Check if the accuracy of each subject is above our threshold.\n",
    "    If so, add it to the highAccDF.\n",
    "    '''\n",
    "    if (100 * subjectDF['accuracy'].astype(int).sum() / len(subjectDF)) > accThreshold:\n",
    "        highAccDF = pd.concat([highAccDF, subjectDF])\n",
    "\n",
    "print('allData subject count: ' + str(allData['subject'].nunique()))\n",
    "\n",
    "print('highAccDF subject count: ' + str(highAccDF['subject'].nunique()))\n",
    "\n"
   ]
  },
  {
   "cell_type": "code",
   "execution_count": 230,
   "metadata": {},
   "outputs": [
    {
     "name": "stdout",
     "output_type": "stream",
     "text": [
      "conDF AccPerc is 0.909280303030303\n",
      "conDF avg resp time: 988.5951063829788\n",
      "incDF AccPerc is 0.8880681818181818\n",
      "incDF avg resp time: 1004.6154014438854\n"
     ]
    },
    {
     "data": {
      "text/plain": [
       "[0.8880681818181818, 1004.6154014438854]"
      ]
     },
     "execution_count": 230,
     "metadata": {},
     "output_type": "execute_result"
    }
   ],
   "source": [
    "conDF = highAccDF.loc[(highAccDF['imgCongruency'] == 'c')]\n",
    "conDF.name = 'conDF'\n",
    "\n",
    "incDF = highAccDF.loc[(highAccDF['imgCongruency'] == 'i')]\n",
    "incDF.name = 'incDF'\n",
    "\n",
    "getAccAndRT(conDF)\n",
    "getAccAndRT(incDF)\n",
    "\n",
    "\n",
    "\n"
   ]
  },
  {
   "cell_type": "code",
   "execution_count": 253,
   "metadata": {},
   "outputs": [
    {
     "name": "stdout",
     "output_type": "stream",
     "text": [
      "firstHalfTestDF AccPerc is 0.9100877192982456\n",
      "firstHalfTestDF avg resp time: 961.4540942928039\n",
      "secondHalfTestDF AccPerc is 0.9076168929110106\n",
      "secondHalfTestDF avg resp time: 998.9434283283709\n",
      "firstHalfConTestDF AccPerc is 0.9372384937238494\n",
      "firstHalfConTestDF avg resp time: 962.5963302752293\n",
      "secondHalfConTestDF AccPerc is 0.9166982203710715\n",
      "secondHalfConTestDF avg resp time: 992.25\n",
      "firstHalfIncTestDF AccPerc is 0.880184331797235\n",
      "firstHalfIncTestDF avg resp time: 960.1081081081081\n",
      "secondHalfIncTestDF AccPerc is 0.8986105895606459\n",
      "secondHalfIncTestDF avg resp time: 1005.780739466896\n"
     ]
    },
    {
     "data": {
      "text/plain": [
       "[0.8986105895606459, 1005.780739466896]"
      ]
     },
     "execution_count": 253,
     "metadata": {},
     "output_type": "execute_result"
    }
   ],
   "source": [
    "# need to grab the respTime and Acc for each trial AFTER a congruent trial\n",
    "\n",
    "\n",
    "# make an empty dataframe for trials AFTER congruent ones\n",
    "# make another empty dataframe for trials after incongruent ones\n",
    "\n",
    "# for each row in the test block (trialCount is > 200)\n",
    "    # check if it's congruent or incongruent\n",
    "        # if congruent\n",
    "            # grab next row and add to the afterCongruent dataframe\n",
    "        # if incongruent\n",
    "            # grab next row and add to the afterIncongruent dataframe\n",
    "            \n",
    "# testBlockDF = highAccDF.loc[highAccDF['currentBlockName'].isnull()] #this is only for the first batch of participants cuz it was messed up\n",
    "\n",
    "learnBlocksDF = highAccDF.loc[highAccDF['currentBlockName'] != 'test']\n",
    "\n",
    "testBlockDF = highAccDF.loc[highAccDF['currentBlockName'] == 'test']\n",
    "\n",
    "conTestDF = testBlockDF.loc[testBlockDF['imgCongruency'] == 'c']\n",
    "incTestDF = testBlockDF.loc[testBlockDF['imgCongruency'] == 'i']\n",
    "\n",
    "conTestDF.name = 'conTestDF'\n",
    "incTestDF.name = 'incTestDF'\n",
    "\n",
    "#https://stackoverflow.com/questions/56235168/getting-the-next-row-of-a-data-frame-with-a-condition\n",
    " \n",
    "afterConTestDF = testBlockDF.loc[testBlockDF['imgCongruency'].shift(1) == 'c'] # can you just do this\n",
    "afterIncTestDF = testBlockDF.loc[testBlockDF['imgCongruency'].shift(1) == 'i']\n",
    "\n",
    "afterConTestDF.name = 'afterConTestDF'\n",
    "afterIncTestDF.name = 'afterIncTestDF'\n",
    "\n",
    "afterOldConTestDF = testBlockDF.loc[(testBlockDF['repeat'].shift(1) == True) & (testBlockDF['imgCongruency'].shift(1) == 'c')]\n",
    "afterOldIncTestDF = testBlockDF.loc[(testBlockDF['repeat'].shift(1) == True) & (testBlockDF['imgCongruency'].shift(1) == 'i')]\n",
    "\n",
    "afterOldConTestDF.name = 'afterOldConTestDF'\n",
    "afterOldIncTestDF.name = 'afterOldIncTestDF'\n",
    "\n",
    "afterNewConTestDF = testBlockDF.loc[(testBlockDF['repeat'].shift(1) == False) & (testBlockDF['imgCongruency'].shift(1) == 'c')]\n",
    "afterNewIncTestDF = testBlockDF.loc[(testBlockDF['repeat'].shift(1) == False) & (testBlockDF['imgCongruency'].shift(1) == 'i')]\n",
    "\n",
    "afterNewConTestDF.name = 'afterNewConTestDF'\n",
    "afterNewIncTestDF.name = 'afterNewIncTestDF'\n",
    "\n",
    "firstHalfTestDF = testBlockDF.loc[testBlockDF['trialCount'] < testBlockDF['trialCount'].max() / 2]\n",
    "secondHalfTestDF = testBlockDF.loc[testBlockDF['trialCount'] >= testBlockDF['trialCount'].max() / 2]\n",
    "\n",
    "firstHalfConTestDF = conTestDF.loc[conTestDF['trialCount'] < conTestDF['trialCount'].max() / 2]\n",
    "secondHalfConTestDF = conTestDF.loc[conTestDF['trialCount'] >= conTestDF['trialCount'].max() / 2]\n",
    "\n",
    "firstHalfIncTestDF = incTestDF.loc[incTestDF['trialCount'] < incTestDF['trialCount'].max() / 2]\n",
    "secondHalfIncTestDF = incTestDF.loc[incTestDF['trialCount'] >= incTestDF['trialCount'].max() / 2]\n",
    "\n",
    "firstHalfTestDF.name = 'firstHalfTestDF'\n",
    "secondHalfTestDF.name = 'secondHalfTestDF'\n",
    "firstHalfConTestDF.name = 'firstHalfConTestDF'\n",
    "secondHalfConTestDF.name = 'secondHalfConTestDF'\n",
    "firstHalfIncTestDF.name = 'firstHalfIncTestDF'\n",
    "secondHalfIncTestDF.name = 'secondHalfIncTestDF'\n",
    "\n"
   ]
  },
  {
   "cell_type": "markdown",
   "metadata": {},
   "source": [
    "### comparing the first half of test block with second half"
   ]
  },
  {
   "cell_type": "code",
   "execution_count": 254,
   "metadata": {},
   "outputs": [
    {
     "name": "stdout",
     "output_type": "stream",
     "text": [
      "firstHalfTestDF AccPerc is 0.9100877192982456\n",
      "firstHalfTestDF avg resp time: 961.4540942928039\n",
      "secondHalfTestDF AccPerc is 0.9076168929110106\n",
      "secondHalfTestDF avg resp time: 998.9434283283709\n",
      "firstHalfConTestDF AccPerc is 0.9372384937238494\n",
      "firstHalfConTestDF avg resp time: 962.5963302752293\n",
      "secondHalfConTestDF AccPerc is 0.9166982203710715\n",
      "secondHalfConTestDF avg resp time: 992.25\n",
      "firstHalfIncTestDF AccPerc is 0.880184331797235\n",
      "firstHalfIncTestDF avg resp time: 960.1081081081081\n",
      "secondHalfIncTestDF AccPerc is 0.8986105895606459\n",
      "secondHalfIncTestDF avg resp time: 1005.780739466896\n"
     ]
    },
    {
     "data": {
      "text/plain": [
       "[0.8986105895606459, 1005.780739466896]"
      ]
     },
     "execution_count": 254,
     "metadata": {},
     "output_type": "execute_result"
    }
   ],
   "source": [
    "getAccAndRT(firstHalfTestDF)\n",
    "getAccAndRT(secondHalfTestDF)\n",
    "\n",
    "getAccAndRT(firstHalfConTestDF)\n",
    "getAccAndRT(secondHalfConTestDF)\n",
    "\n",
    "getAccAndRT(firstHalfIncTestDF)\n",
    "getAccAndRT(secondHalfIncTestDF)"
   ]
  },
  {
   "cell_type": "markdown",
   "metadata": {},
   "source": [
    "### comparing flanker sizes to see if that has an unintended effect"
   ]
  },
  {
   "cell_type": "code",
   "execution_count": 255,
   "metadata": {},
   "outputs": [
    {
     "name": "stdout",
     "output_type": "stream",
     "text": [
      "smallFlankerDF AccPerc is 0.89354044326577\n",
      "smallFlankerDF avg resp time: 989.1036347901342\n",
      "largeFlankerDF AccPerc is 0.9038060973300511\n",
      "largeFlankerDF avg resp time: 1003.8410410841041\n"
     ]
    },
    {
     "data": {
      "text/plain": [
       "[0.9038060973300511, 1003.8410410841041]"
      ]
     },
     "execution_count": 255,
     "metadata": {},
     "output_type": "execute_result"
    }
   ],
   "source": [
    "smallFlankerDF = highAccDF.loc[highAccDF['flankerSize'] == 'small']\n",
    "largeFlankerDF = highAccDF.loc[highAccDF['flankerSize'] == 'large']\n",
    "\n",
    "smallFlankerDF.name = 'smallFlankerDF'\n",
    "largeFlankerDF.name = 'largeFlankerDF'\n",
    "\n",
    "\n",
    "getAccAndRT(smallFlankerDF)\n",
    "getAccAndRT(largeFlankerDF)\n"
   ]
  },
  {
   "cell_type": "markdown",
   "metadata": {},
   "source": [
    "### comparing old vs. new stimuli effect on trial N+1 congruency effect"
   ]
  },
  {
   "cell_type": "code",
   "execution_count": 256,
   "metadata": {},
   "outputs": [
    {
     "name": "stdout",
     "output_type": "stream",
     "text": [
      "conTestDF AccPerc is 0.9184027777777778\n",
      "conTestDF avg resp time: 989.7579028527371\n",
      "incTestDF AccPerc is 0.8972222222222223\n",
      "incTestDF avg resp time: 1002.415770609319\n",
      "afterConTestDF AccPerc is 0.9065647794373046\n",
      "afterConTestDF avg resp time: 994.4220651747154\n",
      "afterIncTestDF AccPerc is 0.9090277777777778\n",
      "afterIncTestDF avg resp time: 997.5643332029722\n",
      "afterOldConTestDF AccPerc is 0.9055555555555556\n",
      "afterOldConTestDF avg resp time: 1000.4377447141738\n",
      "afterOldIncTestDF AccPerc is 0.8958333333333334\n",
      "afterOldIncTestDF avg resp time: 1003.8247829518548\n",
      "afterNewConTestDF AccPerc is 0.9075747046560111\n",
      "afterNewConTestDF avg resp time: 988.3732283464567\n",
      "afterNewIncTestDF AccPerc is 0.9222222222222223\n",
      "afterNewIncTestDF avg resp time: 991.415503875969\n"
     ]
    },
    {
     "data": {
      "text/plain": [
       "[0.9222222222222223, 991.415503875969]"
      ]
     },
     "execution_count": 256,
     "metadata": {},
     "output_type": "execute_result"
    }
   ],
   "source": [
    "getAccAndRT(conTestDF)\n",
    "getAccAndRT(incTestDF)\n",
    "\n",
    "getAccAndRT(afterConTestDF)\n",
    "getAccAndRT(afterIncTestDF)\n",
    "\n",
    "getAccAndRT(afterOldConTestDF)\n",
    "getAccAndRT(afterOldIncTestDF)\n",
    "getAccAndRT(afterNewConTestDF)\n",
    "getAccAndRT(afterNewIncTestDF)\n"
   ]
  },
  {
   "cell_type": "markdown",
   "metadata": {},
   "source": [
    "### effect of context during the learning blocks"
   ]
  },
  {
   "cell_type": "code",
   "execution_count": 239,
   "metadata": {},
   "outputs": [
    {
     "name": "stdout",
     "output_type": "stream",
     "text": [
      "learnBlocksHighConDF AccPerc is 0.8929166666666667\n",
      "learnBlocksHighConDF avg resp time: 993.9335881509794\n",
      "learnBlocksLowConDF AccPerc is 0.8825\n",
      "learnBlocksLowConDF avg resp time: 1000.3342981186686\n",
      "learnBlocksHighConCongruentTrialsDF AccPerc is 0.9005208333333333\n",
      "learnBlocksHighConCongruentTrialsDF avg resp time: 985.6678529062871\n",
      "learnBlocksHighConIncongruentTrialsDF AccPerc is 0.8625\n",
      "learnBlocksHighConIncongruentTrialsDF avg resp time: 1028.174447174447\n",
      "learnBlocksLowConCongruentTrialsDF AccPerc is 0.8895833333333333\n",
      "learnBlocksLowConCongruentTrialsDF avg resp time: 993.1642857142857\n",
      "learnBlocksLowConIncongruentTrialsDF AccPerc is 0.8807291666666667\n",
      "learnBlocksLowConIncongruentTrialsDF avg resp time: 1002.1560798548095\n"
     ]
    },
    {
     "data": {
      "text/plain": [
       "[0.8807291666666667, 1002.1560798548095]"
      ]
     },
     "execution_count": 239,
     "metadata": {},
     "output_type": "execute_result"
    }
   ],
   "source": [
    "firstLearnBlockHighConDF = highAccDF.loc[(highAccDF['blockNumber'] == 1) & (highAccDF['firstBlockName'].isin(['learnBtop', 'learnBbot']))]\n",
    "firstLearnBlockHighConDF.name = 'firstLearnBlockHighConDF'\n",
    "\n",
    "secondLearnBlockHighConDF = highAccDF.loc[(highAccDF['blockNumber'] == 2) & (highAccDF['secondBlockName'].isin(['learnBtop', 'learnBbot']))]\n",
    "secondLearnBlockHighConDF.name = 'secondLearnBlockHighConDF'\n",
    "\n",
    "firstLearnBlockLowConDF = highAccDF.loc[(highAccDF['blockNumber'] == 1) & (highAccDF['firstBlockName'].isin(['learnAtop', 'learnAbot']))]\n",
    "firstLearnBlockLowConDF.name = 'firstLearnBlockLowConDF'\n",
    "\n",
    "secondLearnBlockLowConDF = highAccDF.loc[(highAccDF['blockNumber'] == 2) & (highAccDF['secondBlockName'].isin(['learnAtop', 'learnAbot']))]\n",
    "secondLearnBlockLowConDF.name = 'secondLearnBlockLowConDF'\n",
    "\n",
    "learnBlocksHighConDF = pd.concat([firstLearnBlockHighConDF, secondLearnBlockHighConDF])\n",
    "learnBlocksHighConDF.name = 'learnBlocksHighConDF'\n",
    "\n",
    "learnBlocksLowConDF = pd.concat([firstLearnBlockLowConDF, secondLearnBlockLowConDF])\n",
    "learnBlocksLowConDF.name = 'learnBlocksLowConDF'\n",
    "\n",
    "learnBlocksLowConCongruentTrialsDF = learnBlocksLowConDF.loc[learnBlocksLowConDF['imgCongruency'] == 'c']\n",
    "learnBlocksLowConCongruentTrialsDF.name = 'learnBlocksLowConCongruentTrialsDF'\n",
    "\n",
    "learnBlocksLowConIncongruentTrialsDF = learnBlocksLowConDF.loc[learnBlocksLowConDF['imgCongruency'] == 'i']\n",
    "learnBlocksLowConIncongruentTrialsDF.name = 'learnBlocksLowConIncongruentTrialsDF'\n",
    "\n",
    "learnBlocksHighConCongruentTrialsDF = learnBlocksHighConDF.loc[learnBlocksHighConDF['imgCongruency'] == 'c']\n",
    "learnBlocksHighConCongruentTrialsDF.name = 'learnBlocksHighConCongruentTrialsDF'\n",
    "\n",
    "learnBlocksHighConIncongruentTrialsDF = learnBlocksHighConDF.loc[learnBlocksHighConDF['imgCongruency'] == 'i']\n",
    "learnBlocksHighConIncongruentTrialsDF.name = 'learnBlocksHighConIncongruentTrialsDF'\n",
    "\n",
    "getAccAndRT(learnBlocksHighConDF)\n",
    "getAccAndRT(learnBlocksLowConDF)\n",
    "\n",
    "getAccAndRT(learnBlocksHighConCongruentTrialsDF)\n",
    "getAccAndRT(learnBlocksHighConIncongruentTrialsDF)\n",
    "\n",
    "getAccAndRT(learnBlocksLowConCongruentTrialsDF)\n",
    "getAccAndRT(learnBlocksLowConIncongruentTrialsDF)\n"
   ]
  },
  {
   "cell_type": "markdown",
   "metadata": {},
   "source": [
    "### look at all context-last trial-current trial combinations during the test phase"
   ]
  },
  {
   "cell_type": "code",
   "execution_count": 257,
   "metadata": {},
   "outputs": [
    {
     "name": "stdout",
     "output_type": "stream",
     "text": [
      "cccDF AccPerc is 0.930327868852459\n",
      "cccDF avg resp time: 994.7654867256637\n",
      "cciDF AccPerc is 0.8813559322033898\n",
      "cciDF avg resp time: 1001.5566502463054\n",
      "cicDF AccPerc is 0.9128630705394191\n",
      "cicDF avg resp time: 984.3504672897196\n",
      "ciiDF AccPerc is 0.8744769874476988\n",
      "ciiDF avg resp time: 1030.3480392156862\n",
      "iiiDF AccPerc is 0.8688524590163934\n",
      "iiiDF avg resp time: 1006.444976076555\n",
      "iicDF AccPerc is 0.9194915254237288\n",
      "iicDF avg resp time: 1000.939534883721\n",
      "iciDF AccPerc is 0.9121338912133892\n",
      "iciDF avg resp time: 1009.1421800947867\n",
      "iccDF AccPerc is 0.9087136929460581\n",
      "iccDF avg resp time: 976.0879629629629\n",
      "newccDF AccPerc is 0.9133261105092091\n",
      "newccDF avg resp time: 983.5042321644498\n",
      "newciDF AccPerc is 0.8985943775100401\n",
      "newciDF avg resp time: 1004.0949074074074\n",
      "newicDF AccPerc is 0.9236180904522613\n",
      "newicDF avg resp time: 996.1707589285714\n",
      "newiiDF AccPerc is 0.9091891891891892\n",
      "newiiDF avg resp time: 991.2234432234433\n"
     ]
    },
    {
     "data": {
      "text/plain": [
       "[0.9091891891891892, 991.2234432234433]"
      ]
     },
     "execution_count": 257,
     "metadata": {},
     "output_type": "execute_result"
    }
   ],
   "source": [
    "# remember that because it's merged, the column names have _x at the end, so can't directly use the getAccAndRT function unless we rename the columns.\n",
    "# naming convention is last trial's context congruency bias-last trial congruency-current trial congruency\n",
    "# example is cccDF - this is high congruency context for the repeat trial-congruent repeat trial-congruent new trial\n",
    "\n",
    "#maybe try this instead: https://stackoverflow.com/questions/68124347/pandas-find-consecutive-rows-where-following-row-meets-condition\n",
    "repeatDF = testBlockDF.loc[testBlockDF['repeat'] == True] \n",
    "\n",
    "#but this needs to be for each subject though. Cuz every image should show up at some point in each condition.\n",
    "#highConContextDF = repeatDF.loc[repeatDF['imgSource'].isin(learnBlocksHighConDF['imgSource'])]\n",
    "\n",
    "#highConContextDF = repeatDF.loc[repeatDF['imgSource'].isin(learnBlocksHighConDF['imgSource']) & repeatDF['subject'].isin(learnBlocksHighConDF['subject'])]\n",
    "\n",
    "# use testBlockDF cuz it lets us do trial N+1. repeatDF gets rid of those.\n",
    "mergedHighConContextDF = pd.merge(testBlockDF, learnBlocksHighConDF, indicator=True, on=['imgSource', 'subject'], how='left')\n",
    "mergedLowConContextDF = pd.merge(testBlockDF, learnBlocksLowConDF, indicator=True, on=['imgSource', 'subject'], how='left')\n",
    "\n",
    "#merge all learn blocks with the test block, so we can get the novel trials from testArray. Explain this better later.\n",
    "mergedDF = pd.merge(testBlockDF, learnBlocksDF, indicator=True, on=['imgSource', 'subject'], how='left')\n",
    "\n",
    "cccDF = mergedHighConContextDF.loc[(mergedHighConContextDF['imgCongruency_x'].shift(1) == 'c') & (mergedHighConContextDF['imgCongruency_x'] == 'c') & (mergedHighConContextDF['_merge'].shift(1) == 'both')]\n",
    "cciDF = mergedHighConContextDF.loc[(mergedHighConContextDF['imgCongruency_x'].shift(1) == 'c') & (mergedHighConContextDF['imgCongruency_x'] == 'i') & (mergedHighConContextDF['_merge'].shift(1) == 'both')]\n",
    "cicDF = mergedHighConContextDF.loc[(mergedHighConContextDF['imgCongruency_x'].shift(1) == 'i') & (mergedHighConContextDF['imgCongruency_x'] == 'c') & (mergedHighConContextDF['_merge'].shift(1) == 'both')]\n",
    "ciiDF = mergedHighConContextDF.loc[(mergedHighConContextDF['imgCongruency_x'].shift(1) == 'i') & (mergedHighConContextDF['imgCongruency_x'] == 'i') & (mergedHighConContextDF['_merge'].shift(1) == 'both')]\n",
    "\n",
    "iiiDF = mergedLowConContextDF.loc[(mergedLowConContextDF['imgCongruency_x'] == 'i').shift(1) & (mergedLowConContextDF['imgCongruency_x'] == 'i') & (mergedLowConContextDF['_merge'].shift(1) == 'both')]\n",
    "iicDF = mergedLowConContextDF.loc[(mergedLowConContextDF['imgCongruency_x'] == 'i').shift(1) & (mergedLowConContextDF['imgCongruency_x'] == 'c') & (mergedLowConContextDF['_merge'].shift(1) == 'both')]\n",
    "iciDF = mergedLowConContextDF.loc[(mergedLowConContextDF['imgCongruency_x'] == 'c').shift(1) & (mergedLowConContextDF['imgCongruency_x'] == 'i') & (mergedLowConContextDF['_merge'].shift(1) == 'both')]\n",
    "iccDF = mergedLowConContextDF.loc[(mergedLowConContextDF['imgCongruency_x'] == 'c').shift(1) & (mergedLowConContextDF['imgCongruency_x'] == 'c') & (mergedLowConContextDF['_merge'].shift(1) == 'both')]\n",
    "\n",
    "# instead of a repeat trial, now test for two novel trials in a row. c-c means last trial congruent, current trial congruent. i-i means last trial incongruent, current trial incongruent.\n",
    "newccDF = mergedDF.loc[(mergedDF['imgCongruency_x'] == 'c').shift(1) & (mergedDF['imgCongruency_x'] == 'c') & (mergedDF['_merge'].shift(1) == 'left_only')]\n",
    "newciDF = mergedDF.loc[(mergedDF['imgCongruency_x'] == 'c').shift(1) & (mergedDF['imgCongruency_x'] == 'i') & (mergedDF['_merge'].shift(1) == 'left_only')]\n",
    "newicDF = mergedDF.loc[(mergedDF['imgCongruency_x'] == 'i').shift(1) & (mergedDF['imgCongruency_x'] == 'c') & (mergedDF['_merge'].shift(1) == 'left_only')]\n",
    "newiiDF = mergedDF.loc[(mergedDF['imgCongruency_x'] == 'i').shift(1) & (mergedDF['imgCongruency_x'] == 'i') & (mergedDF['_merge'].shift(1) == 'left_only')]\n",
    "\n",
    "# cccDF.rename(columns = {'accuracy_x': 'accuracy', 'respTime_x': 'respTime'})\n",
    "\n",
    "cccDF.name = 'cccDF'\n",
    "cciDF.name = 'cciDF'\n",
    "cicDF.name = 'cicDF'\n",
    "ciiDF.name = 'ciiDF'\n",
    "\n",
    "iiiDF.name = 'iiiDF'\n",
    "iicDF.name = 'iicDF'\n",
    "iciDF.name = 'iciDF'\n",
    "iccDF.name = 'iccDF'\n",
    "\n",
    "newccDF.name = 'newccDF'\n",
    "newciDF.name = 'newciDF'\n",
    "newicDF.name = 'newicDF'\n",
    "newiiDF.name = 'newiiDF'\n",
    "\n",
    "getMergedAccAndRT(cccDF)\n",
    "getMergedAccAndRT(cciDF)\n",
    "getMergedAccAndRT(cicDF)\n",
    "getMergedAccAndRT(ciiDF)\n",
    "\n",
    "getMergedAccAndRT(iiiDF)\n",
    "getMergedAccAndRT(iicDF)\n",
    "getMergedAccAndRT(iciDF)\n",
    "getMergedAccAndRT(iccDF)\n",
    "\n",
    "getMergedAccAndRT(newccDF)\n",
    "getMergedAccAndRT(newciDF)\n",
    "getMergedAccAndRT(newicDF)\n",
    "getMergedAccAndRT(newiiDF)\n"
   ]
  },
  {
   "cell_type": "code",
   "execution_count": null,
   "metadata": {},
   "outputs": [
    {
     "data": {
      "image/png": "[encoded data removed]",
      "text/plain": [
       "<Figure size 432x288 with 1 Axes>"
      ]
     },
     "metadata": {
      "needs_background": "light"
     },
     "output_type": "display_data"
    }
   ],
   "source": [
    "\n",
    "\n",
    "t = np.arange(0.0, 2.0, 0.01)\n",
    "s = 1 + np.sin(2*np.pi*t)\n",
    "plt.plot(t, s)\n",
    "\n",
    "plt.xlabel('time (s)')\n",
    "plt.ylabel('voltage (mV)')\n",
    "plt.title('About as simple as it gets, folks')\n",
    "plt.grid(True)\n",
    "plt.savefig(\"test.png\")\n",
    "plt.show()"
   ]
  },
  {
   "cell_type": "code",
   "execution_count": null,
   "metadata": {},
   "outputs": [],
   "source": []
  }
 ],
 "metadata": {
  "kernelspec": {
   "display_name": "Python 3.7.4 ('base')",
   "language": "python",
   "name": "python3"
  },
  "language_info": {
   "codemirror_mode": {
    "name": "ipython",
    "version": 3
   },
   "file_extension": ".py",
   "mimetype": "text/x-python",
   "name": "python",
   "nbconvert_exporter": "python",
   "pygments_lexer": "ipython3",
   "version": "3.7.4"
  },
  "orig_nbformat": 4,
  "vscode": {
   "interpreter": {
    "hash": "605d4a00bd7b750a1832489ef299cdc74ad9753fbd4c8cd108b39010ae995421"
   }
  }
 },
 "nbformat": 4,
 "nbformat_minor": 2
}
